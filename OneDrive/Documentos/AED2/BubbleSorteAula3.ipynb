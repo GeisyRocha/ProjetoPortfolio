{
 "cells": [
  {
   "cell_type": "code",
   "execution_count": 2,
   "id": "dc8f638d",
   "metadata": {},
   "outputs": [
    {
     "name": "stdout",
     "output_type": "stream",
     "text": [
      "2\n"
     ]
    }
   ],
   "source": [
    "\n",
    "#Selection Sort=  Olhar para uma lista de dados e olhar oo menor\n",
    "#elemento de todos, ele trabalha com o a seleçXão do menor número dispnível\n",
    "\n",
    "#Como eu determino  o menoor elemennto de ums lista?\n",
    "# É necessário armazenar o menor valor conhecido\n",
    "\n",
    "lista = [7, 5, 2 , 8, 3]\n",
    "\n",
    "n = len(lista)\n",
    "minimo = lista[0]\n",
    "for i in range(n):\n",
    "    if lista[i] < minimo:\n",
    "        minimo = lista[i]\n",
    "\n",
    "print(minimo)\n",
    "#testando"
   ]
  },
  {
   "cell_type": "code",
   "execution_count": null,
   "id": "73d69dbd",
   "metadata": {},
   "outputs": [],
   "source": []
  }
 ],
 "metadata": {
  "kernelspec": {
   "display_name": "Python 3 (ipykernel)",
   "language": "python",
   "name": "python3"
  },
  "language_info": {
   "codemirror_mode": {
    "name": "ipython",
    "version": 3
   },
   "file_extension": ".py",
   "mimetype": "text/x-python",
   "name": "python",
   "nbconvert_exporter": "python",
   "pygments_lexer": "ipython3",
   "version": "3.9.13"
  }
 },
 "nbformat": 4,
 "nbformat_minor": 5
}
